{
 "cells": [
  {
   "cell_type": "code",
   "execution_count": 7,
   "metadata": {},
   "outputs": [],
   "source": [
    "import numpy as np\n",
    "from units import *\n",
    "from fundamental import *"
   ]
  },
  {
   "cell_type": "code",
   "execution_count": 8,
   "metadata": {},
   "outputs": [
    {
     "name": "stdout",
     "output_type": "stream",
     "text": [
      "True\n",
      "{'mass': 1, 'space': -1, 'time': -2}\n",
      "{'mass': 1, 'space': -1, 'time': -2}\n",
      "{'mass': 2, 'space': -2, 'time': -4}\n",
      "{'mass': 0, 'space': 0, 'time': 0}\n",
      "{'mass': 1.5, 'space': -1.5, 'time': -3.0}\n",
      "2.7777777777777777e-10\n",
      "[m] [g km^-1 min^-2 ]\n",
      "[m kg^-1 ]\n"
     ]
    }
   ],
   "source": [
    "d = DimensionStructure(up={\"mass\":1, \"space\":-1, \"time\":-2})\n",
    "d0 = DimensionStructure(up={\"mass\":1, \"space\":-1, \"time\":-2})\n",
    "print(d==d0)\n",
    "print(d-d0)\n",
    "print(d*2)\n",
    "print(d*d0)\n",
    "print(d/d0)\n",
    "print(d**1.5)\n",
    "\n",
    "std = ComplexUnit(dim=d0, basic_unit_map={\"space\":meter, \"time\":second, \"mass\": kilogram})\n",
    "spec = ComplexUnit(dim=d0, basic_unit_map={\"space\":kilometer, \"time\":minute, \"mass\": gram})\n",
    "print(spec.unitToStd(1))\n",
    "print(meter, spec)\n",
    "print(meter/kilogram)"
   ]
  },
  {
   "cell_type": "code",
   "execution_count": 9,
   "metadata": {},
   "outputs": [
    {
     "name": "stdout",
     "output_type": "stream",
     "text": [
      "[0.24 0.6  1.5 ] [km min^-1 ]\n",
      "[ 4. 10. 25.] [m s^-1 ]\n",
      "[0.24 0.6  1.5 ] [km min^-1 ]\n",
      "[0.048 0.12  0.3  ] [km min^-2 ]\n"
     ]
    }
   ],
   "source": [
    "l = Quantity(value=np.array([1.2, 3, 7.5]), unit=kilometer)\n",
    "t = Quantity(value=np.float64(5), unit=minute)\n",
    "print(l/t)\n",
    "l.setUnit(meter)\n",
    "t.setUnit(second)\n",
    "print(l/t)\n",
    "v = l/t\n",
    "kmmin = ComplexUnit(dim=v.unit.dim, basic_unit_map={\"space\":kilometer, \"time\":minute})\n",
    "v.setUnit(kmmin)\n",
    "print(v)\n",
    "print(v**2/l)"
   ]
  },
  {
   "cell_type": "code",
   "execution_count": null,
   "metadata": {},
   "outputs": [],
   "source": []
  }
 ],
 "metadata": {
  "kernelspec": {
   "display_name": "Python 3",
   "language": "python",
   "name": "python3"
  },
  "language_info": {
   "codemirror_mode": {
    "name": "ipython",
    "version": 3
   },
   "file_extension": ".py",
   "mimetype": "text/x-python",
   "name": "python",
   "nbconvert_exporter": "python",
   "pygments_lexer": "ipython3",
   "version": "3.6.9"
  }
 },
 "nbformat": 4,
 "nbformat_minor": 4
}
