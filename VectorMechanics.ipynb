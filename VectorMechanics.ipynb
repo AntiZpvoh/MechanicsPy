{
 "cells": [
  {
   "cell_type": "code",
   "execution_count": 1,
   "metadata": {},
   "outputs": [
    {
     "output_type": "stream",
     "name": "stdout",
     "text": [
      "[[1. 0. 0.]\n [0. 1. 0.]\n [0. 0. 1.]]\n"
     ]
    }
   ],
   "source": [
    "import numpy as np\n",
    "from units import *\n",
    "from quantity import *\n",
    "from refsys import *\n",
    "from objects import *"
   ]
  },
  {
   "cell_type": "code",
   "execution_count": 2,
   "metadata": {},
   "outputs": [
    {
     "output_type": "stream",
     "name": "stdout",
     "text": [
      "True\n{'mass': 1, 'space': -1, 'time': -2}\n{'mass': 1, 'space': -1, 'time': -2}\n{'mass': 2, 'space': -2, 'time': -4}\n{'mass': 0, 'space': 0, 'time': 0}\n{'mass': 1.5, 'space': -1.5, 'time': -3.0}\n2.7777777777777777e-10\n[m] [g km^-1 min^-2 ]\n[m kg^-1 ]\n"
     ]
    }
   ],
   "source": [
    "d = DimensionStructure(up={\"mass\":1, \"space\":-1, \"time\":-2})\n",
    "d0 = DimensionStructure(up={\"mass\":1, \"space\":-1, \"time\":-2})\n",
    "print(d==d0)\n",
    "print(d-d0)\n",
    "print(d*2)\n",
    "print(d*d0)\n",
    "print(d/d0)\n",
    "print(d**1.5)\n",
    "\n",
    "std = ComplexUnit(dim=d0, basic_unit_map={\"space\":meter, \"time\":second, \"mass\": kilogram})\n",
    "spec = ComplexUnit(dim=d0, basic_unit_map={\"space\":kilometer, \"time\":minute, \"mass\": gram})\n",
    "print(spec.unitToStd(1))\n",
    "print(meter, spec)\n",
    "print(meter/kilogram)"
   ]
  },
  {
   "cell_type": "code",
   "execution_count": 3,
   "metadata": {},
   "outputs": [
    {
     "output_type": "stream",
     "name": "stdout",
     "text": [
      "[0.24 0.6  1.5 ] [km min^-1 ]\n[ 4. 10. 25.] [m s^-1 ]\n[0.24 0.6  1.5 ] [km min^-1 ]\n[0.048 0.12  0.3  ] [km min^-2 ]\n"
     ]
    }
   ],
   "source": [
    "l = Quantity(value=np.array([1.2, 3, 7.5]), unit=kilometer)\n",
    "t = Quantity(value=np.float64(5), unit=minute)\n",
    "print(l/t)\n",
    "l.setUnit(meter)\n",
    "t.setUnit(second)\n",
    "print(l/t)\n",
    "v = l/t\n",
    "kmmin = ComplexUnit(dim=v.unit.dim, basic_unit_map={\"space\":kilometer, \"time\":minute})\n",
    "v.setUnit(kmmin)\n",
    "print(v)\n",
    "print(v**2/l)"
   ]
  },
  {
   "cell_type": "code",
   "execution_count": 7,
   "metadata": {},
   "outputs": [
    {
     "output_type": "stream",
     "name": "stdout",
     "text": [
      "23.903000000000002 [kg]\n[ 6.82   18.24   19.4635] [m^2 ]\n6.899204664307329 [m]\n[2.2+0.0e+00j 3.2+0.0e+00j 1. +0.0e+00j 0. +3.6e+08j] [m]\n(2.204364238465235e-08+359999999.9999999j) [m]\n"
     ]
    }
   ],
   "source": [
    "m1 = Mass(23.3, kilogram)\n",
    "m2 = Mass(603, gram)\n",
    "print(m1 + m2)\n",
    "\n",
    "pos1 = Position(2.2, 3.2, 8.3, meter)\n",
    "pos2 = Position(3.1, 5.7, 2.345, meter)\n",
    "print(pos1 * pos2)\n",
    "print(pos2.getAbsValue())\n",
    "\n",
    "min1 = MinkowskiEvent(2.2, 3.2, 1, 1.2)\n",
    "print(min1)\n",
    "print(min1.getAbsValue())"
   ]
  },
  {
   "cell_type": "code",
   "execution_count": 5,
   "metadata": {},
   "outputs": [
    {
     "output_type": "stream",
     "name": "stdout",
     "text": [
      "mass: 1e-20 [kg]\nposition: [0. 0. 0.] [m]\nvelocity: [0. 0. 0.] [m s^-1 ]\nforce: [0. 0. 0.] [m s^-2 kg ]\n"
     ]
    }
   ],
   "source": [
    "obj1 = DynamicObject()\n",
    "print(obj1)"
   ]
  },
  {
   "cell_type": "code",
   "execution_count": 6,
   "metadata": {},
   "outputs": [
    {
     "output_type": "stream",
     "name": "stdout",
     "text": [
      "[[0. 1. 0.]\n [1. 0. 0.]\n [0. 0. 1.]]\n[4. 2. 1.] [m]\n[2. 4. 1.] [m]\n"
     ]
    }
   ],
   "source": [
    "refsys = ReferenceSystem(axis_x=Position(0, 1, 0), axis_y=Position(1, 0, 0), axis_z=Position(0, 0, 1))\n",
    "print(refsys.stdToRef(Position(2, 4, 1)))\n",
    "print(refsys.refToStd(Position(4, 2, 1)))"
   ]
  },
  {
   "cell_type": "code",
   "execution_count": null,
   "metadata": {},
   "outputs": [],
   "source": []
  }
 ],
 "metadata": {
  "kernelspec": {
   "display_name": "Python 3",
   "language": "python",
   "name": "python3"
  },
  "language_info": {
   "codemirror_mode": {
    "name": "ipython",
    "version": 3
   },
   "file_extension": ".py",
   "mimetype": "text/x-python",
   "name": "python",
   "nbconvert_exporter": "python",
   "pygments_lexer": "ipython3",
   "version": "3.8.3-final"
  }
 },
 "nbformat": 4,
 "nbformat_minor": 4
}