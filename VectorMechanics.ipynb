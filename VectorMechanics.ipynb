{
 "cells": [
  {
   "cell_type": "code",
   "execution_count": null,
   "metadata": {},
   "outputs": [],
   "source": [
    "import numpy as np\n",
    "from units import *\n",
    "from quantity import *\n",
    "from refsys import *\n",
    "from objects import *"
   ]
  },
  {
   "cell_type": "code",
   "execution_count": null,
   "metadata": {},
   "outputs": [],
   "source": [
    "d = DimensionStructure(up={\"mass\":1, \"space\":-1, \"time\":-2})\n",
    "d0 = DimensionStructure(up={\"mass\":1, \"space\":-1, \"time\":-2})\n",
    "print(d==d0)\n",
    "print(d-d0)\n",
    "print(d*2)\n",
    "print(d*d0)\n",
    "print(d/d0)\n",
    "print(d**1.5)\n",
    "\n",
    "std = ComplexUnit(dim=d0, basic_unit_map={\"space\":meter, \"time\":second, \"mass\": kilogram})\n",
    "spec = ComplexUnit(dim=d0, basic_unit_map={\"space\":kilometer, \"time\":minute, \"mass\": gram})\n",
    "print(spec.unitToStd(1))\n",
    "print(meter, spec)\n",
    "print(meter/kilogram)"
   ]
  },
  {
   "cell_type": "code",
   "execution_count": null,
   "metadata": {},
   "outputs": [],
   "source": [
    "l = Quantity(value=np.array([1.2, 3, 7.5]), unit=kilometer)\n",
    "t = Quantity(value=np.float64(5), unit=minute)\n",
    "print(l/t)\n",
    "l.setUnit(meter)\n",
    "t.setUnit(second)\n",
    "print(l/t)\n",
    "v = l/t\n",
    "kmmin = ComplexUnit(dim=v.unit.dim, basic_unit_map={\"space\":kilometer, \"time\":minute})\n",
    "v.setUnit(kmmin)\n",
    "print(v)\n",
    "print(v**2/l)"
   ]
  },
  {
   "cell_type": "code",
   "execution_count": null,
   "metadata": {},
   "outputs": [],
   "source": [
    "m1 = Mass(23.3, kilogram)\n",
    "m2 = Mass(603, gram)\n",
    "print(m1 + m2)\n",
    "\n",
    "pos1 = Position(2.2, 3.2, 8.3, meter)\n",
    "pos2 = Position(3.1, 5.7, 2.345, meter)\n",
    "print(pos1 * pos2)\n",
    "print(pos2.getAbsValue())\n",
    "\n",
    "min1 = MinkowskiEvent(2.2, 3.2, 1, 1.2)\n",
    "print(min1)\n",
    "print(min1.getAbsValue())"
   ]
  },
  {
   "cell_type": "code",
   "execution_count": null,
   "metadata": {},
   "outputs": [],
   "source": [
    "obj1 = DynamicObject()\n",
    "print(obj1)"
   ]
  },
  {
   "cell_type": "code",
   "execution_count": null,
   "metadata": {},
   "outputs": [],
   "source": [
    "refsys = ReferenceSystem(axis_x=Position(0, 1, 0), axis_y=Position(1, 0, 0), axis_z=Position(0, 0, 1))\n",
    "print(refsys.stdToRef(Position(2, 4, 1)))\n",
    "print(refsys.refToStd(Position(4, 2, 1)))"
   ]
  },
  {
   "cell_type": "code",
   "execution_count": null,
   "metadata": {},
   "outputs": [],
   "source": []
  }
 ],
 "metadata": {
  "kernelspec": {
   "display_name": "Python 3",
   "language": "python",
   "name": "python3"
  },
  "language_info": {
   "codemirror_mode": {
    "name": "ipython",
    "version": 3
   },
   "file_extension": ".py",
   "mimetype": "text/x-python",
   "name": "python",
   "nbconvert_exporter": "python",
   "pygments_lexer": "ipython3",
   "version": "3.8.3-final"
  }
 },
 "nbformat": 4,
 "nbformat_minor": 4
}